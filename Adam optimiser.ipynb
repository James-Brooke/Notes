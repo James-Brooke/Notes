{
 "cells": [
  {
   "cell_type": "markdown",
   "metadata": {},
   "source": [
    "# Adam optimiser"
   ]
  },
  {
   "cell_type": "markdown",
   "metadata": {},
   "source": [
    "https://arxiv.org/abs/1412.6980"
   ]
  },
  {
   "cell_type": "markdown",
   "metadata": {},
   "source": [
    "Adaptive moment estimation (Adam)"
   ]
  },
  {
   "cell_type": "markdown",
   "metadata": {},
   "source": [
    "Adam is a combination of momentum and RMSProp (developed by Hinton but never published - his coursera course is often cited https://www.cs.toronto.edu/~tijmen/csc321/slides/lecture_slides_lec6.pdf). "
   ]
  },
  {
   "cell_type": "markdown",
   "metadata": {},
   "source": [
    "It keeps track of an exponentially decaying average of past gradients and squared gradients. "
   ]
  },
  {
   "cell_type": "markdown",
   "metadata": {},
   "source": [
    "Each step looks like this:"
   ]
  },
  {
   "cell_type": "markdown",
   "metadata": {},
   "source": [
    "$$ m \\leftarrow \\beta_1m + (1 - \\beta_1)\\Delta_\\Theta J(\\Theta) $$\n",
    "$$ s \\leftarrow \\beta_2s + (1 - \\beta_2)\\Delta_\\Theta J(\\Theta) \\odot \\Delta_\\Theta J(\\Theta)$$\n",
    "$$ m \\leftarrow \\frac{m}{1-{\\beta_1} ^T} $$\n",
    "$$ s \\leftarrow \\frac{s}{1-{\\beta_2} ^T}$$\n",
    "$$ \\Theta \\leftarrow \\Theta - \\eta m \\oslash \\sqrt{s + \\epsilon} $$"
   ]
  },
  {
   "cell_type": "markdown",
   "metadata": {},
   "source": [
    "where:  \n",
    "\n",
    "$m =$ momentum vector  \n",
    "$s =$ vector of square of the gradients  \n",
    "$\\beta=$ decay rate - typically $0.9$ to accumulate gradient from most recent iterations  \n",
    "$T=$ Iteration number (from 1)  \n",
    "$\\eta =$ learning rate   \n",
    "$\\epsilon=$ smoothing term to prevent division by $0$  "
   ]
  },
  {
   "cell_type": "markdown",
   "metadata": {},
   "source": [
    "In TensorFlow:"
   ]
  },
  {
   "cell_type": "markdown",
   "metadata": {},
   "source": [
    "tf.train.AdamOptimizer(learning_rate = your_rate_here)"
   ]
  }
 ],
 "metadata": {
  "anaconda-cloud": {},
  "kernelspec": {
   "display_name": "Python [default]",
   "language": "python",
   "name": "python3"
  },
  "language_info": {
   "codemirror_mode": {
    "name": "ipython",
    "version": 3
   },
   "file_extension": ".py",
   "mimetype": "text/x-python",
   "name": "python",
   "nbconvert_exporter": "python",
   "pygments_lexer": "ipython3",
   "version": "3.5.4"
  }
 },
 "nbformat": 4,
 "nbformat_minor": 2
}
