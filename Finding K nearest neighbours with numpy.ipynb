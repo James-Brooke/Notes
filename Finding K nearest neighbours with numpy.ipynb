{
 "cells": [
  {
   "cell_type": "markdown",
   "metadata": {},
   "source": [
    "# Finding K nearest neighbours with numpy"
   ]
  },
  {
   "cell_type": "code",
   "execution_count": 1,
   "metadata": {
    "collapsed": true
   },
   "outputs": [],
   "source": [
    "%matplotlib inline\n",
    "import numpy as np\n",
    "import matplotlib.pyplot as plt\n",
    "import seaborn; seaborn.set()"
   ]
  },
  {
   "cell_type": "code",
   "execution_count": 2,
   "metadata": {
    "collapsed": true
   },
   "outputs": [],
   "source": [
    "rand = np.random.RandomState()"
   ]
  },
  {
   "cell_type": "code",
   "execution_count": 3,
   "metadata": {
    "collapsed": true
   },
   "outputs": [],
   "source": [
    "X = rand.rand(10,2)"
   ]
  },
  {
   "cell_type": "code",
   "execution_count": 4,
   "metadata": {
    "collapsed": false
   },
   "outputs": [
    {
     "data": {
      "text/plain": [
       "array([[ 0.41867685,  0.45929057],\n",
       "       [ 0.38829178,  0.27894163],\n",
       "       [ 0.19253879,  0.78982122],\n",
       "       [ 0.34997908,  0.61071107],\n",
       "       [ 0.06619788,  0.78080595],\n",
       "       [ 0.54157655,  0.35381127],\n",
       "       [ 0.09124421,  0.09759468],\n",
       "       [ 0.46885595,  0.0046501 ],\n",
       "       [ 0.49733318,  0.39886158],\n",
       "       [ 0.44668742,  0.61381489]])"
      ]
     },
     "execution_count": 4,
     "metadata": {},
     "output_type": "execute_result"
    }
   ],
   "source": [
    "X"
   ]
  },
  {
   "cell_type": "code",
   "execution_count": 5,
   "metadata": {
    "collapsed": false,
    "scrolled": false
   },
   "outputs": [
    {
     "data": {
      "image/png": "[encoded data removed]",
      "text/plain": [
       "<matplotlib.figure.Figure at 0x21c2ce50a58>"
      ]
     },
     "metadata": {},
     "output_type": "display_data"
    }
   ],
   "source": [
    "plt.scatter(X[:,0], X[:,1], s=100);"
   ]
  },
  {
   "cell_type": "code",
   "execution_count": 6,
   "metadata": {
    "collapsed": true
   },
   "outputs": [],
   "source": [
    "#find squared euclidean distances for every permutation. Calculated by (difference in x)^2 + (difference in y)^2\n",
    "dist_sq = np.sum((X[:, np.newaxis, :] - X[np.newaxis, :, :]) ** 2, axis=2)"
   ]
  },
  {
   "cell_type": "code",
   "execution_count": 7,
   "metadata": {
    "collapsed": false
   },
   "outputs": [
    {
     "data": {
      "text/plain": [
       "(10, 1, 2)"
      ]
     },
     "execution_count": 7,
     "metadata": {},
     "output_type": "execute_result"
    }
   ],
   "source": [
    "(X[:, np.newaxis, :]).shape"
   ]
  },
  {
   "cell_type": "code",
   "execution_count": 8,
   "metadata": {
    "collapsed": false,
    "scrolled": true
   },
   "outputs": [
    {
     "data": {
      "text/plain": [
       "(1, 10, 2)"
      ]
     },
     "execution_count": 8,
     "metadata": {},
     "output_type": "execute_result"
    }
   ],
   "source": [
    "(X[np.newaxis, :, :]).shape"
   ]
  },
  {
   "cell_type": "markdown",
   "metadata": {},
   "source": [
    "When the above is calculated, both matricies are broadcast to create dimensions of 10,10,2. When the three dimensional matrix is summed across axis 2, it adds all the x and y pairs together to leave a 10 x 10 x 1 matrix, (which has the same number of values as 10 x 10). Each row in the final matrix represents the distances from a set of the X,Y coordinates to all the other coordinates, including itself which is why the matrix is 10x10."
   ]
  },
  {
   "cell_type": "code",
   "execution_count": 9,
   "metadata": {
    "collapsed": false
   },
   "outputs": [
    {
     "data": {
      "text/plain": [
       "(10, 10)"
      ]
     },
     "execution_count": 9,
     "metadata": {},
     "output_type": "execute_result"
    }
   ],
   "source": [
    "dist_sq.shape"
   ]
  },
  {
   "cell_type": "code",
   "execution_count": 10,
   "metadata": {
    "collapsed": false
   },
   "outputs": [
    {
     "data": {
      "text/plain": [
       "array([[ 0.        ,  0.03344899,  0.16038894,  0.02764755,  0.22761357,\n",
       "         0.02623022,  0.23803605,  0.20921589,  0.00983848,  0.02466236],\n",
       "       [ 0.03344899,  0.        ,  0.29931719,  0.11153883,  0.35561228,\n",
       "         0.02910169,  0.12112397,  0.08172643,  0.02627082,  0.11555015],\n",
       "       [ 0.16038894,  0.29931719,  0.        ,  0.05686789,  0.0160433 ,\n",
       "         0.31193203,  0.48943818,  0.69284485,  0.24574906,  0.09556975],\n",
       "       [ 0.02764755,  0.11153883,  0.05686789,  0.        ,  0.10946404,\n",
       "         0.1027071 ,  0.33023217,  0.38144161,  0.06659344,  0.00936214],\n",
       "       [ 0.22761357,  0.35561228,  0.0160433 ,  0.10946404,  0.        ,\n",
       "         0.40830934,  0.46740496,  0.76455142,  0.33175915,  0.17265831],\n",
       "       [ 0.02623022,  0.02910169,  0.31193203,  0.1027071 ,  0.40830934,\n",
       "         0.        ,  0.26844616,  0.12720181,  0.00398701,  0.07660583],\n",
       "       [ 0.23803605,  0.12112397,  0.48943818,  0.33023217,  0.46740496,\n",
       "         0.26844616,  0.        ,  0.15122932,  0.25567   ,  0.39282319],\n",
       "       [ 0.20921589,  0.08172643,  0.69284485,  0.38144161,  0.76455142,\n",
       "         0.12720181,  0.15122932,  0.        ,  0.15621364,  0.37157318],\n",
       "       [ 0.00983848,  0.02627082,  0.24574906,  0.06659344,  0.33175915,\n",
       "         0.00398701,  0.25567   ,  0.15621364,  0.        ,  0.04876992],\n",
       "       [ 0.02466236,  0.11555015,  0.09556975,  0.00936214,  0.17265831,\n",
       "         0.07660583,  0.39282319,  0.37157318,  0.04876992,  0.        ]])"
      ]
     },
     "execution_count": 10,
     "metadata": {},
     "output_type": "execute_result"
    }
   ],
   "source": [
    "dist_sq"
   ]
  },
  {
   "cell_type": "code",
   "execution_count": 11,
   "metadata": {
    "collapsed": true
   },
   "outputs": [],
   "source": [
    "nearest = np.argsort(dist_sq, axis=1)"
   ]
  },
  {
   "cell_type": "code",
   "execution_count": 12,
   "metadata": {
    "collapsed": false
   },
   "outputs": [
    {
     "data": {
      "text/plain": [
       "array([[0, 8, 9, 5, 3, 1, 2, 7, 4, 6],\n",
       "       [1, 8, 5, 0, 7, 3, 9, 6, 2, 4],\n",
       "       [2, 4, 3, 9, 0, 8, 1, 5, 6, 7],\n",
       "       [3, 9, 0, 2, 8, 5, 4, 1, 6, 7],\n",
       "       [4, 2, 3, 9, 0, 8, 1, 5, 6, 7],\n",
       "       [5, 8, 0, 1, 9, 3, 7, 6, 2, 4],\n",
       "       [6, 1, 7, 0, 8, 5, 3, 9, 4, 2],\n",
       "       [7, 1, 5, 6, 8, 0, 9, 3, 2, 4],\n",
       "       [8, 5, 0, 1, 9, 3, 7, 2, 6, 4],\n",
       "       [9, 3, 0, 8, 5, 2, 1, 4, 7, 6]], dtype=int64)"
      ]
     },
     "execution_count": 12,
     "metadata": {},
     "output_type": "execute_result"
    }
   ],
   "source": [
    "\"\"\"find the indexes of the shortest distances from each point. \n",
    "Notice the first element of each row - (the shortest distance from each point is itself)\n",
    "\"\"\"\n",
    "nearest"
   ]
  },
  {
   "cell_type": "code",
   "execution_count": 13,
   "metadata": {
    "collapsed": true
   },
   "outputs": [],
   "source": [
    "K = 2"
   ]
  },
  {
   "cell_type": "code",
   "execution_count": 14,
   "metadata": {
    "collapsed": true
   },
   "outputs": [],
   "source": [
    "nearest_partition = np.argpartition(dist_sq, K+1, axis=1)"
   ]
  },
  {
   "cell_type": "code",
   "execution_count": 15,
   "metadata": {
    "collapsed": false
   },
   "outputs": [
    {
     "data": {
      "text/plain": [
       "array([[8, 0, 9, 5, 3, 1, 2, 7, 4, 6],\n",
       "       [1, 8, 5, 0, 7, 3, 9, 6, 2, 4],\n",
       "       [3, 4, 2, 9, 1, 5, 6, 7, 8, 0],\n",
       "       [3, 9, 0, 2, 8, 5, 4, 7, 1, 6],\n",
       "       [3, 4, 2, 9, 1, 5, 6, 7, 8, 0],\n",
       "       [8, 5, 0, 1, 9, 3, 6, 7, 2, 4],\n",
       "       [1, 6, 7, 0, 8, 5, 3, 9, 2, 4],\n",
       "       [7, 5, 1, 6, 0, 8, 9, 3, 2, 4],\n",
       "       [8, 5, 0, 1, 9, 3, 6, 7, 2, 4],\n",
       "       [3, 9, 0, 8, 5, 2, 1, 4, 7, 6]], dtype=int64)"
      ]
     },
     "execution_count": 15,
     "metadata": {},
     "output_type": "execute_result"
    }
   ],
   "source": [
    "# 3 nearest neighbours on the left (one of them is itself which is why K+1 is passed as an arguement above.)\n",
    "nearest_partition"
   ]
  },
  {
   "cell_type": "code",
   "execution_count": 16,
   "metadata": {
    "collapsed": false,
    "scrolled": false
   },
   "outputs": [
    {
     "data": {
      "image/png": "[encoded data removed]",
      "text/plain": [
       "<matplotlib.figure.Figure at 0x21c2ceb1cc0>"
      ]
     },
     "metadata": {},
     "output_type": "display_data"
    }
   ],
   "source": [
    "plt.scatter(X[:, 0], X[:,1], s=100)\n",
    "\n",
    "#use arguement unpacking to plot the paths to the K nearest neighbours\n",
    "for i in range(X.shape[0]):\n",
    "    for j in nearest_partition[i, :K+1]:\n",
    "        plt.plot(*zip(X[j], X[i]),color='black')"
   ]
  }
 ],
 "metadata": {
  "anaconda-cloud": {},
  "kernelspec": {
   "display_name": "Python [conda root]",
   "language": "python",
   "name": "conda-root-py"
  },
  "language_info": {
   "codemirror_mode": {
    "name": "ipython",
    "version": 3
   },
   "file_extension": ".py",
   "mimetype": "text/x-python",
   "name": "python",
   "nbconvert_exporter": "python",
   "pygments_lexer": "ipython3",
   "version": "3.5.2"
  }
 },
 "nbformat": 4,
 "nbformat_minor": 2
}
