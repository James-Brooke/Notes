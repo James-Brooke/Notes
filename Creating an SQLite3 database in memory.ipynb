{
 "cells": [
  {
   "cell_type": "markdown",
   "metadata": {},
   "source": [
    "# Creating an in memory SQLite3 database"
   ]
  },
  {
   "cell_type": "code",
   "execution_count": 1,
   "metadata": {
    "collapsed": true
   },
   "outputs": [],
   "source": [
    "import csv \n",
    "import sqlite3\n",
    "import pandas as pd"
   ]
  },
  {
   "cell_type": "code",
   "execution_count": 2,
   "metadata": {
    "collapsed": true
   },
   "outputs": [],
   "source": [
    "inputfile = r\"C:\\Users\\James\\Desktop\\putme.csv\""
   ]
  },
  {
   "cell_type": "code",
   "execution_count": 3,
   "metadata": {
    "collapsed": false
   },
   "outputs": [
    {
     "data": {
      "text/html": [
       "<div>\n",
       "<table border=\"1\" class=\"dataframe\">\n",
       "  <thead>\n",
       "    <tr style=\"text-align: right;\">\n",
       "      <th></th>\n",
       "      <th>Col1</th>\n",
       "      <th>Col2</th>\n",
       "      <th>Col3</th>\n",
       "      <th>Col4</th>\n",
       "      <th>Col5</th>\n",
       "    </tr>\n",
       "  </thead>\n",
       "  <tbody>\n",
       "    <tr>\n",
       "      <th>0</th>\n",
       "      <td>1</td>\n",
       "      <td>2</td>\n",
       "      <td>hi</td>\n",
       "      <td>test</td>\n",
       "      <td>3</td>\n",
       "    </tr>\n",
       "    <tr>\n",
       "      <th>1</th>\n",
       "      <td>2</td>\n",
       "      <td>3</td>\n",
       "      <td>y</td>\n",
       "      <td>n</td>\n",
       "      <td>5</td>\n",
       "    </tr>\n",
       "  </tbody>\n",
       "</table>\n",
       "</div>"
      ],
      "text/plain": [
       "   Col1  Col2 Col3  Col4  Col5\n",
       "0     1     2   hi  test     3\n",
       "1     2     3    y     n     5"
      ]
     },
     "execution_count": 3,
     "metadata": {},
     "output_type": "execute_result"
    }
   ],
   "source": [
    "#what the data looks like in a spreadsheet\n",
    "pd.read_csv(inputfile)"
   ]
  },
  {
   "cell_type": "code",
   "execution_count": 4,
   "metadata": {
    "collapsed": true
   },
   "outputs": [],
   "source": [
    "#connect to the database\n",
    "con = sqlite3.connect('test.db')\n",
    "\n",
    "#Rows can be accessed by name using this class as a row factory \n",
    "con.row_factory = sqlite3.Row\n",
    "\n",
    "#create cursor object that can execute sql commands \n",
    "c = con.cursor()"
   ]
  },
  {
   "cell_type": "code",
   "execution_count": 5,
   "metadata": {
    "collapsed": true
   },
   "outputs": [],
   "source": [
    "create_table = \"\"\" CREATE TABLE IF NOT EXISTS test\n",
    "                    (col1 varchar(20), \n",
    "                     col2 varchar(20),\n",
    "                     col3 varchar(20), \n",
    "                     col4 varchar(20), \n",
    "                     col5 varchar(20));\"\"\"\n",
    "\n",
    "c.execute(create_table)\n",
    "\n",
    "#save changes\n",
    "con.commit()"
   ]
  },
  {
   "cell_type": "code",
   "execution_count": 6,
   "metadata": {
    "collapsed": false
   },
   "outputs": [
    {
     "name": "stdout",
     "output_type": "stream",
     "text": [
      "['1', '2', 'hi', 'test', '3']\n",
      "['2', '3', 'y', 'n', '5']\n"
     ]
    }
   ],
   "source": [
    "#Delimiter defaults to comma, shown here for explicit example\n",
    "file_reader = csv.reader(open(inputfile, 'r'), delimiter=',')\n",
    "\n",
    "#skip the column headers\n",
    "header = next(file_reader, None)\n",
    "\n",
    "for row in file_reader:\n",
    "    print(row)"
   ]
  },
  {
   "cell_type": "code",
   "execution_count": 7,
   "metadata": {
    "collapsed": false
   },
   "outputs": [
    {
     "name": "stdout",
     "output_type": "stream",
     "text": [
      "['1', '2', 'hi', 'test', '3']\n",
      "['2', '3', 'y', 'n', '5']\n"
     ]
    }
   ],
   "source": [
    "file_reader = csv.reader(open(inputfile, 'r'))\n",
    "\n",
    "#skip column names\n",
    "next(file_reader, None)\n",
    "\n",
    "for row in file_reader:\n",
    "    \n",
    "    print(row)\n",
    "    \n",
    "    #? is a place holder for the elements of the row\n",
    "    c.execute(\"INSERT INTO test VALUES (?,?,?,?,?);\", row)\n",
    "    \n",
    "#save the changes\n",
    "con.commit()"
   ]
  },
  {
   "cell_type": "code",
   "execution_count": 8,
   "metadata": {
    "collapsed": false
   },
   "outputs": [
    {
     "data": {
      "text/plain": [
       "2"
      ]
     },
     "execution_count": 8,
     "metadata": {},
     "output_type": "execute_result"
    }
   ],
   "source": [
    "#Count number of rows in database\n",
    "numrows = c.execute(\"SELECT Count(*) FROM test;\")\n",
    "\n",
    "#fetchone returns a tuple where the first element is the number of rows\n",
    "rowcount = numrows.fetchone()[0]\n",
    "rowcount"
   ]
  },
  {
   "cell_type": "code",
   "execution_count": 9,
   "metadata": {
    "collapsed": false
   },
   "outputs": [
    {
     "data": {
      "text/plain": [
       "2"
      ]
     },
     "execution_count": 9,
     "metadata": {},
     "output_type": "execute_result"
    }
   ],
   "source": [
    "#A slightly more pythonic way of doing it \n",
    "numrows = c.execute(\"SELECT Count(*) FROM test;\")\n",
    "\n",
    "#Use tuple unpacking to get the number of rows\n",
    "(rowcount,) = numrows.fetchone()\n",
    "rowcount"
   ]
  },
  {
   "cell_type": "code",
   "execution_count": 10,
   "metadata": {
    "collapsed": true
   },
   "outputs": [],
   "source": [
    "output = c.execute(\"SELECT * FROM test\")"
   ]
  },
  {
   "cell_type": "code",
   "execution_count": 11,
   "metadata": {
    "collapsed": false
   },
   "outputs": [],
   "source": [
    "rows = output.fetchall()"
   ]
  },
  {
   "cell_type": "code",
   "execution_count": 12,
   "metadata": {
    "collapsed": false
   },
   "outputs": [
    {
     "name": "stdout",
     "output_type": "stream",
     "text": [
      "['1', '2', 'hi', 'test', '3']\n",
      "['2', '3', 'y', 'n', '5']\n"
     ]
    }
   ],
   "source": [
    "for row in rows:\n",
    "    output = list(row)\n",
    "    print(output)"
   ]
  },
  {
   "cell_type": "code",
   "execution_count": 13,
   "metadata": {
    "collapsed": false
   },
   "outputs": [],
   "source": [
    "tester = c.execute(\"SELECT * FROM test WHERE col2 = '2'\")"
   ]
  },
  {
   "cell_type": "code",
   "execution_count": 14,
   "metadata": {
    "collapsed": true
   },
   "outputs": [],
   "source": [
    "rows = tester.fetchall()"
   ]
  },
  {
   "cell_type": "code",
   "execution_count": 15,
   "metadata": {
    "collapsed": false
   },
   "outputs": [
    {
     "name": "stdout",
     "output_type": "stream",
     "text": [
      "['1', '2', 'hi', 'test', '3']\n"
     ]
    }
   ],
   "source": [
    "for row in rows:\n",
    "    print(list(row))"
   ]
  },
  {
   "cell_type": "code",
   "execution_count": 16,
   "metadata": {
    "collapsed": true
   },
   "outputs": [],
   "source": [
    "tester_two = c.execute(\"SELECT * FROM test\")"
   ]
  },
  {
   "cell_type": "code",
   "execution_count": 17,
   "metadata": {
    "collapsed": false
   },
   "outputs": [
    {
     "name": "stdout",
     "output_type": "stream",
     "text": [
      "hi\n",
      "y\n"
     ]
    }
   ],
   "source": [
    "#Because of the sqlite3.Row row factory, rows can be accessed case-insensitively by column name\n",
    "rows = tester_two.fetchall()\n",
    "for row in rows:\n",
    "    print(row['col3'])"
   ]
  },
  {
   "cell_type": "code",
   "execution_count": 18,
   "metadata": {
    "collapsed": false
   },
   "outputs": [
    {
     "data": {
      "text/plain": [
       "'hi'"
      ]
     },
     "execution_count": 18,
     "metadata": {},
     "output_type": "execute_result"
    }
   ],
   "source": [
    "rows[0]['col3']"
   ]
  },
  {
   "cell_type": "code",
   "execution_count": 19,
   "metadata": {
    "collapsed": false
   },
   "outputs": [
    {
     "data": {
      "text/plain": [
       "'test'"
      ]
     },
     "execution_count": 19,
     "metadata": {},
     "output_type": "execute_result"
    }
   ],
   "source": [
    "rows[0]['col4']"
   ]
  },
  {
   "cell_type": "code",
   "execution_count": 20,
   "metadata": {
    "collapsed": false
   },
   "outputs": [
    {
     "data": {
      "text/plain": [
       "'test'"
      ]
     },
     "execution_count": 20,
     "metadata": {},
     "output_type": "execute_result"
    }
   ],
   "source": [
    "#rows can still be accessed by index\n",
    "rows[0][3]"
   ]
  },
  {
   "cell_type": "code",
   "execution_count": 21,
   "metadata": {
    "collapsed": true
   },
   "outputs": [],
   "source": [
    "#select only the first column\n",
    "tester_three = c.execute(\"SELECT col1 FROM test\")\n",
    "\n",
    "rows= tester_three.fetchall()"
   ]
  },
  {
   "cell_type": "code",
   "execution_count": 22,
   "metadata": {
    "collapsed": false
   },
   "outputs": [
    {
     "data": {
      "text/plain": [
       "['1']"
      ]
     },
     "execution_count": 22,
     "metadata": {},
     "output_type": "execute_result"
    }
   ],
   "source": [
    "list(rows[0])"
   ]
  }
 ],
 "metadata": {
  "kernelspec": {
   "display_name": "Python [conda root]",
   "language": "python",
   "name": "conda-root-py"
  },
  "language_info": {
   "codemirror_mode": {
    "name": "ipython",
    "version": 3
   },
   "file_extension": ".py",
   "mimetype": "text/x-python",
   "name": "python",
   "nbconvert_exporter": "python",
   "pygments_lexer": "ipython3",
   "version": "3.5.2"
  }
 },
 "nbformat": 4,
 "nbformat_minor": 2
}
